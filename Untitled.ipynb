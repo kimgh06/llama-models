{
 "cells": [
  {
   "cell_type": "code",
   "execution_count": 1,
   "id": "c0e91d83-0d99-4dc1-99c6-e2fba83c6d13",
   "metadata": {},
   "outputs": [
    {
     "name": "stdout",
     "output_type": "stream",
     "text": [
      "Requirement already satisfied: transformers in c:\\users\\ggh06\\anaconda3\\lib\\site-packages (4.44.1)\n",
      "Requirement already satisfied: filelock in c:\\users\\ggh06\\anaconda3\\lib\\site-packages (from transformers) (3.13.1)\n",
      "Requirement already satisfied: huggingface-hub<1.0,>=0.23.2 in c:\\users\\ggh06\\anaconda3\\lib\\site-packages (from transformers) (0.24.6)\n",
      "Requirement already satisfied: numpy>=1.17 in c:\\users\\ggh06\\anaconda3\\lib\\site-packages (from transformers) (1.26.4)\n",
      "Requirement already satisfied: packaging>=20.0 in c:\\users\\ggh06\\anaconda3\\lib\\site-packages (from transformers) (23.1)\n",
      "Requirement already satisfied: pyyaml>=5.1 in c:\\users\\ggh06\\anaconda3\\lib\\site-packages (from transformers) (6.0.1)\n",
      "Requirement already satisfied: regex!=2019.12.17 in c:\\users\\ggh06\\anaconda3\\lib\\site-packages (from transformers) (2023.10.3)\n",
      "Requirement already satisfied: requests in c:\\users\\ggh06\\anaconda3\\lib\\site-packages (from transformers) (2.31.0)\n",
      "Requirement already satisfied: safetensors>=0.4.1 in c:\\users\\ggh06\\anaconda3\\lib\\site-packages (from transformers) (0.4.4)\n",
      "Requirement already satisfied: tokenizers<0.20,>=0.19 in c:\\users\\ggh06\\anaconda3\\lib\\site-packages (from transformers) (0.19.1)\n",
      "Requirement already satisfied: tqdm>=4.27 in c:\\users\\ggh06\\anaconda3\\lib\\site-packages (from transformers) (4.65.0)\n",
      "Requirement already satisfied: fsspec>=2023.5.0 in c:\\users\\ggh06\\anaconda3\\lib\\site-packages (from huggingface-hub<1.0,>=0.23.2->transformers) (2023.10.0)\n",
      "Requirement already satisfied: typing-extensions>=3.7.4.3 in c:\\users\\ggh06\\anaconda3\\lib\\site-packages (from huggingface-hub<1.0,>=0.23.2->transformers) (4.9.0)\n",
      "Requirement already satisfied: colorama in c:\\users\\ggh06\\anaconda3\\lib\\site-packages (from tqdm>=4.27->transformers) (0.4.6)\n",
      "Requirement already satisfied: charset-normalizer<4,>=2 in c:\\users\\ggh06\\anaconda3\\lib\\site-packages (from requests->transformers) (2.0.4)\n",
      "Requirement already satisfied: idna<4,>=2.5 in c:\\users\\ggh06\\anaconda3\\lib\\site-packages (from requests->transformers) (3.4)\n",
      "Requirement already satisfied: urllib3<3,>=1.21.1 in c:\\users\\ggh06\\anaconda3\\lib\\site-packages (from requests->transformers) (2.0.7)\n",
      "Requirement already satisfied: certifi>=2017.4.17 in c:\\users\\ggh06\\anaconda3\\lib\\site-packages (from requests->transformers) (2024.2.2)\n",
      "Requirement already satisfied: accelerate in c:\\users\\ggh06\\anaconda3\\lib\\site-packages (0.33.0)\n",
      "Requirement already satisfied: numpy<2.0.0,>=1.17 in c:\\users\\ggh06\\anaconda3\\lib\\site-packages (from accelerate) (1.26.4)\n",
      "Requirement already satisfied: packaging>=20.0 in c:\\users\\ggh06\\anaconda3\\lib\\site-packages (from accelerate) (23.1)\n",
      "Requirement already satisfied: psutil in c:\\users\\ggh06\\anaconda3\\lib\\site-packages (from accelerate) (5.9.0)\n",
      "Requirement already satisfied: pyyaml in c:\\users\\ggh06\\anaconda3\\lib\\site-packages (from accelerate) (6.0.1)\n",
      "Requirement already satisfied: torch>=1.10.0 in c:\\users\\ggh06\\anaconda3\\lib\\site-packages (from accelerate) (2.4.0+cu124)\n",
      "Requirement already satisfied: huggingface-hub>=0.21.0 in c:\\users\\ggh06\\anaconda3\\lib\\site-packages (from accelerate) (0.24.6)\n",
      "Requirement already satisfied: safetensors>=0.3.1 in c:\\users\\ggh06\\anaconda3\\lib\\site-packages (from accelerate) (0.4.4)\n",
      "Requirement already satisfied: filelock in c:\\users\\ggh06\\anaconda3\\lib\\site-packages (from huggingface-hub>=0.21.0->accelerate) (3.13.1)\n",
      "Requirement already satisfied: fsspec>=2023.5.0 in c:\\users\\ggh06\\anaconda3\\lib\\site-packages (from huggingface-hub>=0.21.0->accelerate) (2023.10.0)\n",
      "Requirement already satisfied: requests in c:\\users\\ggh06\\anaconda3\\lib\\site-packages (from huggingface-hub>=0.21.0->accelerate) (2.31.0)\n",
      "Requirement already satisfied: tqdm>=4.42.1 in c:\\users\\ggh06\\anaconda3\\lib\\site-packages (from huggingface-hub>=0.21.0->accelerate) (4.65.0)\n",
      "Requirement already satisfied: typing-extensions>=3.7.4.3 in c:\\users\\ggh06\\anaconda3\\lib\\site-packages (from huggingface-hub>=0.21.0->accelerate) (4.9.0)\n",
      "Requirement already satisfied: sympy in c:\\users\\ggh06\\anaconda3\\lib\\site-packages (from torch>=1.10.0->accelerate) (1.12)\n",
      "Requirement already satisfied: networkx in c:\\users\\ggh06\\anaconda3\\lib\\site-packages (from torch>=1.10.0->accelerate) (3.1)\n",
      "Requirement already satisfied: jinja2 in c:\\users\\ggh06\\anaconda3\\lib\\site-packages (from torch>=1.10.0->accelerate) (3.1.3)\n",
      "Requirement already satisfied: colorama in c:\\users\\ggh06\\anaconda3\\lib\\site-packages (from tqdm>=4.42.1->huggingface-hub>=0.21.0->accelerate) (0.4.6)\n",
      "Requirement already satisfied: MarkupSafe>=2.0 in c:\\users\\ggh06\\anaconda3\\lib\\site-packages (from jinja2->torch>=1.10.0->accelerate) (2.1.3)\n",
      "Requirement already satisfied: charset-normalizer<4,>=2 in c:\\users\\ggh06\\anaconda3\\lib\\site-packages (from requests->huggingface-hub>=0.21.0->accelerate) (2.0.4)\n",
      "Requirement already satisfied: idna<4,>=2.5 in c:\\users\\ggh06\\anaconda3\\lib\\site-packages (from requests->huggingface-hub>=0.21.0->accelerate) (3.4)\n",
      "Requirement already satisfied: urllib3<3,>=1.21.1 in c:\\users\\ggh06\\anaconda3\\lib\\site-packages (from requests->huggingface-hub>=0.21.0->accelerate) (2.0.7)\n",
      "Requirement already satisfied: certifi>=2017.4.17 in c:\\users\\ggh06\\anaconda3\\lib\\site-packages (from requests->huggingface-hub>=0.21.0->accelerate) (2024.2.2)\n",
      "Requirement already satisfied: mpmath>=0.19 in c:\\users\\ggh06\\anaconda3\\lib\\site-packages (from sympy->torch>=1.10.0->accelerate) (1.3.0)\n"
     ]
    },
    {
     "name": "stderr",
     "output_type": "stream",
     "text": [
      "\n",
      "Usage:   \n",
      "  C:\\Users\\ggh06\\anaconda3\\python.exe -m pip install [options] <requirement specifier> [package-index-options] ...\n",
      "  C:\\Users\\ggh06\\anaconda3\\python.exe -m pip install [options] -r <requirements file> [package-index-options] ...\n",
      "  C:\\Users\\ggh06\\anaconda3\\python.exe -m pip install [options] [-e] <vcs project url> ...\n",
      "  C:\\Users\\ggh06\\anaconda3\\python.exe -m pip install [options] [-e] <local project path> ...\n",
      "  C:\\Users\\ggh06\\anaconda3\\python.exe -m pip install [options] <archive url/path> ...\n",
      "\n",
      "no such option: --yes\n"
     ]
    }
   ],
   "source": [
    "import sys\n",
    "!{sys.executable} -m pip install transformers\n",
    "!{sys.executable} -m pip install accelerate\n",
    "!{sys.executable} -m pip install ipywidgets==7.7.5 --yes"
   ]
  },
  {
   "cell_type": "code",
   "execution_count": 3,
   "id": "6ac5664d-f2bd-48b4-aee8-a9b1d6c2591f",
   "metadata": {},
   "outputs": [
    {
     "name": "stdout",
     "output_type": "stream",
     "text": [
      "Collecting jupyterlab==3.2.1\n",
      "  Downloading jupyterlab-3.2.1-py3-none-any.whl.metadata (11 kB)\n",
      "Requirement already satisfied: ipython in c:\\users\\ggh06\\anaconda3\\lib\\site-packages (from jupyterlab==3.2.1) (8.20.0)\n",
      "Requirement already satisfied: packaging in c:\\users\\ggh06\\anaconda3\\lib\\site-packages (from jupyterlab==3.2.1) (23.1)\n",
      "Requirement already satisfied: tornado>=6.1.0 in c:\\users\\ggh06\\anaconda3\\lib\\site-packages (from jupyterlab==3.2.1) (6.3.3)\n",
      "Requirement already satisfied: jupyter-core in c:\\users\\ggh06\\anaconda3\\lib\\site-packages (from jupyterlab==3.2.1) (5.5.0)\n",
      "Requirement already satisfied: jupyterlab-server~=2.3 in c:\\users\\ggh06\\anaconda3\\lib\\site-packages (from jupyterlab==3.2.1) (2.25.1)\n",
      "Collecting jupyter-server~=1.4 (from jupyterlab==3.2.1)\n",
      "  Downloading jupyter_server-1.24.0-py3-none-any.whl.metadata (4.4 kB)\n",
      "Collecting nbclassic~=0.2 (from jupyterlab==3.2.1)\n",
      "  Downloading nbclassic-0.5.6-py3-none-any.whl.metadata (4.0 kB)\n",
      "Requirement already satisfied: jinja2>=2.1 in c:\\users\\ggh06\\anaconda3\\lib\\site-packages (from jupyterlab==3.2.1) (3.1.3)\n",
      "Requirement already satisfied: MarkupSafe>=2.0 in c:\\users\\ggh06\\anaconda3\\lib\\site-packages (from jinja2>=2.1->jupyterlab==3.2.1) (2.1.3)\n",
      "Collecting anyio<4,>=3.1.0 (from jupyter-server~=1.4->jupyterlab==3.2.1)\n",
      "  Downloading anyio-3.7.1-py3-none-any.whl.metadata (4.7 kB)\n",
      "Requirement already satisfied: argon2-cffi in c:\\users\\ggh06\\anaconda3\\lib\\site-packages (from jupyter-server~=1.4->jupyterlab==3.2.1) (21.3.0)\n",
      "Requirement already satisfied: jupyter-client>=6.1.12 in c:\\users\\ggh06\\anaconda3\\lib\\site-packages (from jupyter-server~=1.4->jupyterlab==3.2.1) (8.6.0)\n",
      "Requirement already satisfied: nbconvert>=6.4.4 in c:\\users\\ggh06\\anaconda3\\lib\\site-packages (from jupyter-server~=1.4->jupyterlab==3.2.1) (7.10.0)\n",
      "Requirement already satisfied: nbformat>=5.2.0 in c:\\users\\ggh06\\anaconda3\\lib\\site-packages (from jupyter-server~=1.4->jupyterlab==3.2.1) (5.9.2)\n",
      "Requirement already satisfied: prometheus-client in c:\\users\\ggh06\\anaconda3\\lib\\site-packages (from jupyter-server~=1.4->jupyterlab==3.2.1) (0.14.1)\n",
      "Requirement already satisfied: pyzmq>=17 in c:\\users\\ggh06\\anaconda3\\lib\\site-packages (from jupyter-server~=1.4->jupyterlab==3.2.1) (25.1.2)\n",
      "Requirement already satisfied: Send2Trash in c:\\users\\ggh06\\anaconda3\\lib\\site-packages (from jupyter-server~=1.4->jupyterlab==3.2.1) (1.8.2)\n",
      "Requirement already satisfied: terminado>=0.8.3 in c:\\users\\ggh06\\anaconda3\\lib\\site-packages (from jupyter-server~=1.4->jupyterlab==3.2.1) (0.17.1)\n",
      "Requirement already satisfied: traitlets>=5.1 in c:\\users\\ggh06\\anaconda3\\lib\\site-packages (from jupyter-server~=1.4->jupyterlab==3.2.1) (5.7.1)\n",
      "Requirement already satisfied: websocket-client in c:\\users\\ggh06\\anaconda3\\lib\\site-packages (from jupyter-server~=1.4->jupyterlab==3.2.1) (0.58.0)\n",
      "Requirement already satisfied: pywinpty in c:\\users\\ggh06\\anaconda3\\lib\\site-packages (from jupyter-server~=1.4->jupyterlab==3.2.1) (2.0.10)\n",
      "Requirement already satisfied: platformdirs>=2.5 in c:\\users\\ggh06\\anaconda3\\lib\\site-packages (from jupyter-core->jupyterlab==3.2.1) (3.10.0)\n",
      "Requirement already satisfied: pywin32>=300 in c:\\users\\ggh06\\anaconda3\\lib\\site-packages (from jupyter-core->jupyterlab==3.2.1) (305.1)\n",
      "Requirement already satisfied: babel>=2.10 in c:\\users\\ggh06\\anaconda3\\lib\\site-packages (from jupyterlab-server~=2.3->jupyterlab==3.2.1) (2.11.0)\n",
      "Requirement already satisfied: json5>=0.9.0 in c:\\users\\ggh06\\anaconda3\\lib\\site-packages (from jupyterlab-server~=2.3->jupyterlab==3.2.1) (0.9.6)\n",
      "Requirement already satisfied: jsonschema>=4.18.0 in c:\\users\\ggh06\\anaconda3\\lib\\site-packages (from jupyterlab-server~=2.3->jupyterlab==3.2.1) (4.19.2)\n",
      "Requirement already satisfied: requests>=2.31 in c:\\users\\ggh06\\anaconda3\\lib\\site-packages (from jupyterlab-server~=2.3->jupyterlab==3.2.1) (2.31.0)\n",
      "Requirement already satisfied: ipython-genutils in c:\\users\\ggh06\\anaconda3\\lib\\site-packages (from nbclassic~=0.2->jupyterlab==3.2.1) (0.2.0)\n",
      "Requirement already satisfied: notebook-shim>=0.2.3 in c:\\users\\ggh06\\anaconda3\\lib\\site-packages (from nbclassic~=0.2->jupyterlab==3.2.1) (0.2.3)\n",
      "Requirement already satisfied: nest-asyncio>=1.5 in c:\\users\\ggh06\\anaconda3\\lib\\site-packages (from nbclassic~=0.2->jupyterlab==3.2.1) (1.6.0)\n",
      "Requirement already satisfied: ipykernel in c:\\users\\ggh06\\anaconda3\\lib\\site-packages (from nbclassic~=0.2->jupyterlab==3.2.1) (6.28.0)\n",
      "Requirement already satisfied: decorator in c:\\users\\ggh06\\anaconda3\\lib\\site-packages (from ipython->jupyterlab==3.2.1) (5.1.1)\n",
      "Requirement already satisfied: jedi>=0.16 in c:\\users\\ggh06\\anaconda3\\lib\\site-packages (from ipython->jupyterlab==3.2.1) (0.18.1)\n",
      "Requirement already satisfied: matplotlib-inline in c:\\users\\ggh06\\anaconda3\\lib\\site-packages (from ipython->jupyterlab==3.2.1) (0.1.6)\n",
      "Requirement already satisfied: prompt-toolkit<3.1.0,>=3.0.41 in c:\\users\\ggh06\\anaconda3\\lib\\site-packages (from ipython->jupyterlab==3.2.1) (3.0.43)\n",
      "Requirement already satisfied: pygments>=2.4.0 in c:\\users\\ggh06\\anaconda3\\lib\\site-packages (from ipython->jupyterlab==3.2.1) (2.15.1)\n",
      "Requirement already satisfied: stack-data in c:\\users\\ggh06\\anaconda3\\lib\\site-packages (from ipython->jupyterlab==3.2.1) (0.2.0)\n",
      "Requirement already satisfied: colorama in c:\\users\\ggh06\\anaconda3\\lib\\site-packages (from ipython->jupyterlab==3.2.1) (0.4.6)\n",
      "Requirement already satisfied: idna>=2.8 in c:\\users\\ggh06\\anaconda3\\lib\\site-packages (from anyio<4,>=3.1.0->jupyter-server~=1.4->jupyterlab==3.2.1) (3.4)\n",
      "Requirement already satisfied: sniffio>=1.1 in c:\\users\\ggh06\\anaconda3\\lib\\site-packages (from anyio<4,>=3.1.0->jupyter-server~=1.4->jupyterlab==3.2.1) (1.3.0)\n",
      "Requirement already satisfied: pytz>=2015.7 in c:\\users\\ggh06\\anaconda3\\lib\\site-packages (from babel>=2.10->jupyterlab-server~=2.3->jupyterlab==3.2.1) (2023.3.post1)\n",
      "Requirement already satisfied: parso<0.9.0,>=0.8.0 in c:\\users\\ggh06\\anaconda3\\lib\\site-packages (from jedi>=0.16->ipython->jupyterlab==3.2.1) (0.8.3)\n",
      "Requirement already satisfied: attrs>=22.2.0 in c:\\users\\ggh06\\anaconda3\\lib\\site-packages (from jsonschema>=4.18.0->jupyterlab-server~=2.3->jupyterlab==3.2.1) (23.1.0)\n",
      "Requirement already satisfied: jsonschema-specifications>=2023.03.6 in c:\\users\\ggh06\\anaconda3\\lib\\site-packages (from jsonschema>=4.18.0->jupyterlab-server~=2.3->jupyterlab==3.2.1) (2023.7.1)\n",
      "Requirement already satisfied: referencing>=0.28.4 in c:\\users\\ggh06\\anaconda3\\lib\\site-packages (from jsonschema>=4.18.0->jupyterlab-server~=2.3->jupyterlab==3.2.1) (0.30.2)\n",
      "Requirement already satisfied: rpds-py>=0.7.1 in c:\\users\\ggh06\\anaconda3\\lib\\site-packages (from jsonschema>=4.18.0->jupyterlab-server~=2.3->jupyterlab==3.2.1) (0.10.6)\n",
      "Requirement already satisfied: python-dateutil>=2.8.2 in c:\\users\\ggh06\\anaconda3\\lib\\site-packages (from jupyter-client>=6.1.12->jupyter-server~=1.4->jupyterlab==3.2.1) (2.8.2)\n",
      "Requirement already satisfied: beautifulsoup4 in c:\\users\\ggh06\\anaconda3\\lib\\site-packages (from nbconvert>=6.4.4->jupyter-server~=1.4->jupyterlab==3.2.1) (4.12.2)\n",
      "Requirement already satisfied: bleach!=5.0.0 in c:\\users\\ggh06\\anaconda3\\lib\\site-packages (from nbconvert>=6.4.4->jupyter-server~=1.4->jupyterlab==3.2.1) (4.1.0)\n",
      "Requirement already satisfied: defusedxml in c:\\users\\ggh06\\anaconda3\\lib\\site-packages (from nbconvert>=6.4.4->jupyter-server~=1.4->jupyterlab==3.2.1) (0.7.1)\n",
      "Requirement already satisfied: jupyterlab-pygments in c:\\users\\ggh06\\anaconda3\\lib\\site-packages (from nbconvert>=6.4.4->jupyter-server~=1.4->jupyterlab==3.2.1) (0.1.2)\n",
      "Requirement already satisfied: mistune<4,>=2.0.3 in c:\\users\\ggh06\\anaconda3\\lib\\site-packages (from nbconvert>=6.4.4->jupyter-server~=1.4->jupyterlab==3.2.1) (2.0.4)\n",
      "Requirement already satisfied: nbclient>=0.5.0 in c:\\users\\ggh06\\anaconda3\\lib\\site-packages (from nbconvert>=6.4.4->jupyter-server~=1.4->jupyterlab==3.2.1) (0.8.0)\n",
      "Requirement already satisfied: pandocfilters>=1.4.1 in c:\\users\\ggh06\\anaconda3\\lib\\site-packages (from nbconvert>=6.4.4->jupyter-server~=1.4->jupyterlab==3.2.1) (1.5.0)\n",
      "Requirement already satisfied: tinycss2 in c:\\users\\ggh06\\anaconda3\\lib\\site-packages (from nbconvert>=6.4.4->jupyter-server~=1.4->jupyterlab==3.2.1) (1.2.1)\n",
      "Requirement already satisfied: fastjsonschema in c:\\users\\ggh06\\anaconda3\\lib\\site-packages (from nbformat>=5.2.0->jupyter-server~=1.4->jupyterlab==3.2.1) (2.16.2)\n",
      "Requirement already satisfied: wcwidth in c:\\users\\ggh06\\anaconda3\\lib\\site-packages (from prompt-toolkit<3.1.0,>=3.0.41->ipython->jupyterlab==3.2.1) (0.2.5)\n",
      "Requirement already satisfied: charset-normalizer<4,>=2 in c:\\users\\ggh06\\anaconda3\\lib\\site-packages (from requests>=2.31->jupyterlab-server~=2.3->jupyterlab==3.2.1) (2.0.4)\n",
      "Requirement already satisfied: urllib3<3,>=1.21.1 in c:\\users\\ggh06\\anaconda3\\lib\\site-packages (from requests>=2.31->jupyterlab-server~=2.3->jupyterlab==3.2.1) (2.0.7)\n",
      "Requirement already satisfied: certifi>=2017.4.17 in c:\\users\\ggh06\\anaconda3\\lib\\site-packages (from requests>=2.31->jupyterlab-server~=2.3->jupyterlab==3.2.1) (2024.2.2)\n",
      "Requirement already satisfied: argon2-cffi-bindings in c:\\users\\ggh06\\anaconda3\\lib\\site-packages (from argon2-cffi->jupyter-server~=1.4->jupyterlab==3.2.1) (21.2.0)\n",
      "Requirement already satisfied: comm>=0.1.1 in c:\\users\\ggh06\\anaconda3\\lib\\site-packages (from ipykernel->nbclassic~=0.2->jupyterlab==3.2.1) (0.1.2)\n",
      "Requirement already satisfied: debugpy>=1.6.5 in c:\\users\\ggh06\\anaconda3\\lib\\site-packages (from ipykernel->nbclassic~=0.2->jupyterlab==3.2.1) (1.6.7)\n",
      "Requirement already satisfied: psutil in c:\\users\\ggh06\\anaconda3\\lib\\site-packages (from ipykernel->nbclassic~=0.2->jupyterlab==3.2.1) (5.9.0)\n",
      "Requirement already satisfied: executing in c:\\users\\ggh06\\anaconda3\\lib\\site-packages (from stack-data->ipython->jupyterlab==3.2.1) (0.8.3)\n",
      "Requirement already satisfied: asttokens in c:\\users\\ggh06\\anaconda3\\lib\\site-packages (from stack-data->ipython->jupyterlab==3.2.1) (2.0.5)\n",
      "Requirement already satisfied: pure-eval in c:\\users\\ggh06\\anaconda3\\lib\\site-packages (from stack-data->ipython->jupyterlab==3.2.1) (0.2.2)\n",
      "Requirement already satisfied: six in c:\\users\\ggh06\\anaconda3\\lib\\site-packages (from websocket-client->jupyter-server~=1.4->jupyterlab==3.2.1) (1.16.0)\n",
      "Requirement already satisfied: webencodings in c:\\users\\ggh06\\anaconda3\\lib\\site-packages (from bleach!=5.0.0->nbconvert>=6.4.4->jupyter-server~=1.4->jupyterlab==3.2.1) (0.5.1)\n",
      "Requirement already satisfied: cffi>=1.0.1 in c:\\users\\ggh06\\anaconda3\\lib\\site-packages (from argon2-cffi-bindings->argon2-cffi->jupyter-server~=1.4->jupyterlab==3.2.1) (1.16.0)\n",
      "Requirement already satisfied: soupsieve>1.2 in c:\\users\\ggh06\\anaconda3\\lib\\site-packages (from beautifulsoup4->nbconvert>=6.4.4->jupyter-server~=1.4->jupyterlab==3.2.1) (2.5)\n",
      "Requirement already satisfied: pycparser in c:\\users\\ggh06\\anaconda3\\lib\\site-packages (from cffi>=1.0.1->argon2-cffi-bindings->argon2-cffi->jupyter-server~=1.4->jupyterlab==3.2.1) (2.21)\n",
      "Downloading jupyterlab-3.2.1-py3-none-any.whl (8.6 MB)\n",
      "   ---------------------------------------- 0.0/8.6 MB ? eta -:--:--\n",
      "   ---------------------------------------- 8.6/8.6 MB 44.2 MB/s eta 0:00:00\n",
      "Downloading jupyter_server-1.24.0-py3-none-any.whl (347 kB)\n",
      "Downloading nbclassic-0.5.6-py3-none-any.whl (10.0 MB)\n",
      "   ---------------------------------------- 0.0/10.0 MB ? eta -:--:--\n",
      "   -------------------------------------- - 9.7/10.0 MB 46.5 MB/s eta 0:00:01\n",
      "   ---------------------------------------- 10.0/10.0 MB 44.6 MB/s eta 0:00:00\n",
      "Downloading anyio-3.7.1-py3-none-any.whl (80 kB)\n",
      "Installing collected packages: anyio, jupyter-server, nbclassic, jupyterlab\n",
      "  Attempting uninstall: anyio\n",
      "    Found existing installation: anyio 4.2.0\n",
      "    Uninstalling anyio-4.2.0:\n",
      "      Successfully uninstalled anyio-4.2.0\n",
      "  Attempting uninstall: jupyter-server\n",
      "    Found existing installation: jupyter_server 2.10.0\n",
      "    Uninstalling jupyter_server-2.10.0:\n",
      "      Successfully uninstalled jupyter_server-2.10.0\n",
      "  Attempting uninstall: jupyterlab\n",
      "    Found existing installation: jupyterlab 4.0.11\n",
      "    Uninstalling jupyterlab-4.0.11:\n",
      "      Successfully uninstalled jupyterlab-4.0.11\n",
      "Successfully installed anyio-3.7.1 jupyter-server-1.24.0 jupyterlab-3.2.1 nbclassic-0.5.6\n"
     ]
    },
    {
     "name": "stderr",
     "output_type": "stream",
     "text": [
      "ERROR: pip's dependency resolver does not currently take into account all the packages that are installed. This behaviour is the source of the following dependency conflicts.\n",
      "notebook 7.0.8 requires jupyter-server<3,>=2.4.0, but you have jupyter-server 1.24.0 which is incompatible.\n",
      "notebook 7.0.8 requires jupyterlab<4.1,>=4.0.2, but you have jupyterlab 3.2.1 which is incompatible.\n"
     ]
    },
    {
     "name": "stdout",
     "output_type": "stream",
     "text": [
      "Collecting ipywidgets==7.7.0\n",
      "  Downloading ipywidgets-7.7.0-py2.py3-none-any.whl.metadata (1.9 kB)\n",
      "Requirement already satisfied: ipykernel>=4.5.1 in c:\\users\\ggh06\\anaconda3\\lib\\site-packages (from ipywidgets==7.7.0) (6.28.0)\n",
      "Requirement already satisfied: ipython-genutils~=0.2.0 in c:\\users\\ggh06\\anaconda3\\lib\\site-packages (from ipywidgets==7.7.0) (0.2.0)\n",
      "Requirement already satisfied: traitlets>=4.3.1 in c:\\users\\ggh06\\anaconda3\\lib\\site-packages (from ipywidgets==7.7.0) (5.7.1)\n",
      "Requirement already satisfied: nbformat>=4.2.0 in c:\\users\\ggh06\\anaconda3\\lib\\site-packages (from ipywidgets==7.7.0) (5.9.2)\n",
      "Collecting widgetsnbextension~=3.6.0 (from ipywidgets==7.7.0)\n",
      "  Downloading widgetsnbextension-3.6.8-py2.py3-none-any.whl.metadata (1.3 kB)\n",
      "Requirement already satisfied: ipython>=4.0.0 in c:\\users\\ggh06\\anaconda3\\lib\\site-packages (from ipywidgets==7.7.0) (8.20.0)\n",
      "Requirement already satisfied: jupyterlab-widgets>=1.0.0 in c:\\users\\ggh06\\anaconda3\\lib\\site-packages (from ipywidgets==7.7.0) (3.0.13)\n",
      "Requirement already satisfied: comm>=0.1.1 in c:\\users\\ggh06\\anaconda3\\lib\\site-packages (from ipykernel>=4.5.1->ipywidgets==7.7.0) (0.1.2)\n",
      "Requirement already satisfied: debugpy>=1.6.5 in c:\\users\\ggh06\\anaconda3\\lib\\site-packages (from ipykernel>=4.5.1->ipywidgets==7.7.0) (1.6.7)\n",
      "Requirement already satisfied: jupyter-client>=6.1.12 in c:\\users\\ggh06\\anaconda3\\lib\\site-packages (from ipykernel>=4.5.1->ipywidgets==7.7.0) (8.6.0)\n",
      "Requirement already satisfied: jupyter-core!=5.0.*,>=4.12 in c:\\users\\ggh06\\anaconda3\\lib\\site-packages (from ipykernel>=4.5.1->ipywidgets==7.7.0) (5.5.0)\n",
      "Requirement already satisfied: matplotlib-inline>=0.1 in c:\\users\\ggh06\\anaconda3\\lib\\site-packages (from ipykernel>=4.5.1->ipywidgets==7.7.0) (0.1.6)\n",
      "Requirement already satisfied: nest-asyncio in c:\\users\\ggh06\\anaconda3\\lib\\site-packages (from ipykernel>=4.5.1->ipywidgets==7.7.0) (1.6.0)\n",
      "Requirement already satisfied: packaging in c:\\users\\ggh06\\anaconda3\\lib\\site-packages (from ipykernel>=4.5.1->ipywidgets==7.7.0) (23.1)\n",
      "Requirement already satisfied: psutil in c:\\users\\ggh06\\anaconda3\\lib\\site-packages (from ipykernel>=4.5.1->ipywidgets==7.7.0) (5.9.0)\n",
      "Requirement already satisfied: pyzmq>=24 in c:\\users\\ggh06\\anaconda3\\lib\\site-packages (from ipykernel>=4.5.1->ipywidgets==7.7.0) (25.1.2)\n",
      "Requirement already satisfied: tornado>=6.1 in c:\\users\\ggh06\\anaconda3\\lib\\site-packages (from ipykernel>=4.5.1->ipywidgets==7.7.0) (6.3.3)\n",
      "Requirement already satisfied: decorator in c:\\users\\ggh06\\anaconda3\\lib\\site-packages (from ipython>=4.0.0->ipywidgets==7.7.0) (5.1.1)\n",
      "Requirement already satisfied: jedi>=0.16 in c:\\users\\ggh06\\anaconda3\\lib\\site-packages (from ipython>=4.0.0->ipywidgets==7.7.0) (0.18.1)\n",
      "Requirement already satisfied: prompt-toolkit<3.1.0,>=3.0.41 in c:\\users\\ggh06\\anaconda3\\lib\\site-packages (from ipython>=4.0.0->ipywidgets==7.7.0) (3.0.43)\n",
      "Requirement already satisfied: pygments>=2.4.0 in c:\\users\\ggh06\\anaconda3\\lib\\site-packages (from ipython>=4.0.0->ipywidgets==7.7.0) (2.15.1)\n",
      "Requirement already satisfied: stack-data in c:\\users\\ggh06\\anaconda3\\lib\\site-packages (from ipython>=4.0.0->ipywidgets==7.7.0) (0.2.0)\n",
      "Requirement already satisfied: colorama in c:\\users\\ggh06\\anaconda3\\lib\\site-packages (from ipython>=4.0.0->ipywidgets==7.7.0) (0.4.6)\n",
      "Requirement already satisfied: fastjsonschema in c:\\users\\ggh06\\anaconda3\\lib\\site-packages (from nbformat>=4.2.0->ipywidgets==7.7.0) (2.16.2)\n",
      "Requirement already satisfied: jsonschema>=2.6 in c:\\users\\ggh06\\anaconda3\\lib\\site-packages (from nbformat>=4.2.0->ipywidgets==7.7.0) (4.19.2)\n",
      "Requirement already satisfied: notebook>=4.4.1 in c:\\users\\ggh06\\anaconda3\\lib\\site-packages (from widgetsnbextension~=3.6.0->ipywidgets==7.7.0) (7.0.8)\n",
      "Requirement already satisfied: parso<0.9.0,>=0.8.0 in c:\\users\\ggh06\\anaconda3\\lib\\site-packages (from jedi>=0.16->ipython>=4.0.0->ipywidgets==7.7.0) (0.8.3)\n",
      "Requirement already satisfied: attrs>=22.2.0 in c:\\users\\ggh06\\anaconda3\\lib\\site-packages (from jsonschema>=2.6->nbformat>=4.2.0->ipywidgets==7.7.0) (23.1.0)\n",
      "Requirement already satisfied: jsonschema-specifications>=2023.03.6 in c:\\users\\ggh06\\anaconda3\\lib\\site-packages (from jsonschema>=2.6->nbformat>=4.2.0->ipywidgets==7.7.0) (2023.7.1)\n",
      "Requirement already satisfied: referencing>=0.28.4 in c:\\users\\ggh06\\anaconda3\\lib\\site-packages (from jsonschema>=2.6->nbformat>=4.2.0->ipywidgets==7.7.0) (0.30.2)\n",
      "Requirement already satisfied: rpds-py>=0.7.1 in c:\\users\\ggh06\\anaconda3\\lib\\site-packages (from jsonschema>=2.6->nbformat>=4.2.0->ipywidgets==7.7.0) (0.10.6)\n",
      "Requirement already satisfied: python-dateutil>=2.8.2 in c:\\users\\ggh06\\anaconda3\\lib\\site-packages (from jupyter-client>=6.1.12->ipykernel>=4.5.1->ipywidgets==7.7.0) (2.8.2)\n",
      "Requirement already satisfied: platformdirs>=2.5 in c:\\users\\ggh06\\anaconda3\\lib\\site-packages (from jupyter-core!=5.0.*,>=4.12->ipykernel>=4.5.1->ipywidgets==7.7.0) (3.10.0)\n",
      "Requirement already satisfied: pywin32>=300 in c:\\users\\ggh06\\anaconda3\\lib\\site-packages (from jupyter-core!=5.0.*,>=4.12->ipykernel>=4.5.1->ipywidgets==7.7.0) (305.1)\n",
      "Collecting jupyter-server<3,>=2.4.0 (from notebook>=4.4.1->widgetsnbextension~=3.6.0->ipywidgets==7.7.0)\n",
      "  Using cached jupyter_server-2.14.2-py3-none-any.whl.metadata (8.4 kB)\n",
      "Requirement already satisfied: jupyterlab-server<3,>=2.22.1 in c:\\users\\ggh06\\anaconda3\\lib\\site-packages (from notebook>=4.4.1->widgetsnbextension~=3.6.0->ipywidgets==7.7.0) (2.25.1)\n",
      "Collecting jupyterlab<4.1,>=4.0.2 (from notebook>=4.4.1->widgetsnbextension~=3.6.0->ipywidgets==7.7.0)\n",
      "  Downloading jupyterlab-4.0.13-py3-none-any.whl.metadata (15 kB)\n",
      "Requirement already satisfied: notebook-shim<0.3,>=0.2 in c:\\users\\ggh06\\anaconda3\\lib\\site-packages (from notebook>=4.4.1->widgetsnbextension~=3.6.0->ipywidgets==7.7.0) (0.2.3)\n",
      "Requirement already satisfied: wcwidth in c:\\users\\ggh06\\anaconda3\\lib\\site-packages (from prompt-toolkit<3.1.0,>=3.0.41->ipython>=4.0.0->ipywidgets==7.7.0) (0.2.5)\n",
      "Requirement already satisfied: executing in c:\\users\\ggh06\\anaconda3\\lib\\site-packages (from stack-data->ipython>=4.0.0->ipywidgets==7.7.0) (0.8.3)\n",
      "Requirement already satisfied: asttokens in c:\\users\\ggh06\\anaconda3\\lib\\site-packages (from stack-data->ipython>=4.0.0->ipywidgets==7.7.0) (2.0.5)\n",
      "Requirement already satisfied: pure-eval in c:\\users\\ggh06\\anaconda3\\lib\\site-packages (from stack-data->ipython>=4.0.0->ipywidgets==7.7.0) (0.2.2)\n",
      "Requirement already satisfied: anyio>=3.1.0 in c:\\users\\ggh06\\anaconda3\\lib\\site-packages (from jupyter-server<3,>=2.4.0->notebook>=4.4.1->widgetsnbextension~=3.6.0->ipywidgets==7.7.0) (3.7.1)\n",
      "Requirement already satisfied: argon2-cffi>=21.1 in c:\\users\\ggh06\\anaconda3\\lib\\site-packages (from jupyter-server<3,>=2.4.0->notebook>=4.4.1->widgetsnbextension~=3.6.0->ipywidgets==7.7.0) (21.3.0)\n",
      "Requirement already satisfied: jinja2>=3.0.3 in c:\\users\\ggh06\\anaconda3\\lib\\site-packages (from jupyter-server<3,>=2.4.0->notebook>=4.4.1->widgetsnbextension~=3.6.0->ipywidgets==7.7.0) (3.1.3)\n",
      "Collecting jupyter-events>=0.9.0 (from jupyter-server<3,>=2.4.0->notebook>=4.4.1->widgetsnbextension~=3.6.0->ipywidgets==7.7.0)\n",
      "  Using cached jupyter_events-0.10.0-py3-none-any.whl.metadata (5.9 kB)\n",
      "Requirement already satisfied: jupyter-server-terminals>=0.4.4 in c:\\users\\ggh06\\anaconda3\\lib\\site-packages (from jupyter-server<3,>=2.4.0->notebook>=4.4.1->widgetsnbextension~=3.6.0->ipywidgets==7.7.0) (0.4.4)\n",
      "Requirement already satisfied: nbconvert>=6.4.4 in c:\\users\\ggh06\\anaconda3\\lib\\site-packages (from jupyter-server<3,>=2.4.0->notebook>=4.4.1->widgetsnbextension~=3.6.0->ipywidgets==7.7.0) (7.10.0)\n",
      "Requirement already satisfied: overrides>=5.0 in c:\\users\\ggh06\\anaconda3\\lib\\site-packages (from jupyter-server<3,>=2.4.0->notebook>=4.4.1->widgetsnbextension~=3.6.0->ipywidgets==7.7.0) (7.4.0)\n",
      "Requirement already satisfied: prometheus-client>=0.9 in c:\\users\\ggh06\\anaconda3\\lib\\site-packages (from jupyter-server<3,>=2.4.0->notebook>=4.4.1->widgetsnbextension~=3.6.0->ipywidgets==7.7.0) (0.14.1)\n",
      "Requirement already satisfied: pywinpty>=2.0.1 in c:\\users\\ggh06\\anaconda3\\lib\\site-packages (from jupyter-server<3,>=2.4.0->notebook>=4.4.1->widgetsnbextension~=3.6.0->ipywidgets==7.7.0) (2.0.10)\n",
      "Requirement already satisfied: send2trash>=1.8.2 in c:\\users\\ggh06\\anaconda3\\lib\\site-packages (from jupyter-server<3,>=2.4.0->notebook>=4.4.1->widgetsnbextension~=3.6.0->ipywidgets==7.7.0) (1.8.2)\n",
      "Requirement already satisfied: terminado>=0.8.3 in c:\\users\\ggh06\\anaconda3\\lib\\site-packages (from jupyter-server<3,>=2.4.0->notebook>=4.4.1->widgetsnbextension~=3.6.0->ipywidgets==7.7.0) (0.17.1)\n",
      "Collecting websocket-client>=1.7 (from jupyter-server<3,>=2.4.0->notebook>=4.4.1->widgetsnbextension~=3.6.0->ipywidgets==7.7.0)\n",
      "  Using cached websocket_client-1.8.0-py3-none-any.whl.metadata (8.0 kB)\n",
      "Requirement already satisfied: async-lru>=1.0.0 in c:\\users\\ggh06\\anaconda3\\lib\\site-packages (from jupyterlab<4.1,>=4.0.2->notebook>=4.4.1->widgetsnbextension~=3.6.0->ipywidgets==7.7.0) (2.0.4)\n",
      "Requirement already satisfied: jupyter-lsp>=2.0.0 in c:\\users\\ggh06\\anaconda3\\lib\\site-packages (from jupyterlab<4.1,>=4.0.2->notebook>=4.4.1->widgetsnbextension~=3.6.0->ipywidgets==7.7.0) (2.2.0)\n",
      "Requirement already satisfied: babel>=2.10 in c:\\users\\ggh06\\anaconda3\\lib\\site-packages (from jupyterlab-server<3,>=2.22.1->notebook>=4.4.1->widgetsnbextension~=3.6.0->ipywidgets==7.7.0) (2.11.0)\n",
      "Requirement already satisfied: json5>=0.9.0 in c:\\users\\ggh06\\anaconda3\\lib\\site-packages (from jupyterlab-server<3,>=2.22.1->notebook>=4.4.1->widgetsnbextension~=3.6.0->ipywidgets==7.7.0) (0.9.6)\n",
      "Requirement already satisfied: requests>=2.31 in c:\\users\\ggh06\\anaconda3\\lib\\site-packages (from jupyterlab-server<3,>=2.22.1->notebook>=4.4.1->widgetsnbextension~=3.6.0->ipywidgets==7.7.0) (2.31.0)\n",
      "Requirement already satisfied: six>=1.5 in c:\\users\\ggh06\\anaconda3\\lib\\site-packages (from python-dateutil>=2.8.2->jupyter-client>=6.1.12->ipykernel>=4.5.1->ipywidgets==7.7.0) (1.16.0)\n",
      "Requirement already satisfied: idna>=2.8 in c:\\users\\ggh06\\anaconda3\\lib\\site-packages (from anyio>=3.1.0->jupyter-server<3,>=2.4.0->notebook>=4.4.1->widgetsnbextension~=3.6.0->ipywidgets==7.7.0) (3.4)\n",
      "Requirement already satisfied: sniffio>=1.1 in c:\\users\\ggh06\\anaconda3\\lib\\site-packages (from anyio>=3.1.0->jupyter-server<3,>=2.4.0->notebook>=4.4.1->widgetsnbextension~=3.6.0->ipywidgets==7.7.0) (1.3.0)\n",
      "Requirement already satisfied: argon2-cffi-bindings in c:\\users\\ggh06\\anaconda3\\lib\\site-packages (from argon2-cffi>=21.1->jupyter-server<3,>=2.4.0->notebook>=4.4.1->widgetsnbextension~=3.6.0->ipywidgets==7.7.0) (21.2.0)\n",
      "Requirement already satisfied: pytz>=2015.7 in c:\\users\\ggh06\\anaconda3\\lib\\site-packages (from babel>=2.10->jupyterlab-server<3,>=2.22.1->notebook>=4.4.1->widgetsnbextension~=3.6.0->ipywidgets==7.7.0) (2023.3.post1)\n",
      "Requirement already satisfied: MarkupSafe>=2.0 in c:\\users\\ggh06\\anaconda3\\lib\\site-packages (from jinja2>=3.0.3->jupyter-server<3,>=2.4.0->notebook>=4.4.1->widgetsnbextension~=3.6.0->ipywidgets==7.7.0) (2.1.3)\n",
      "Requirement already satisfied: python-json-logger>=2.0.4 in c:\\users\\ggh06\\anaconda3\\lib\\site-packages (from jupyter-events>=0.9.0->jupyter-server<3,>=2.4.0->notebook>=4.4.1->widgetsnbextension~=3.6.0->ipywidgets==7.7.0) (2.0.7)\n",
      "Requirement already satisfied: pyyaml>=5.3 in c:\\users\\ggh06\\anaconda3\\lib\\site-packages (from jupyter-events>=0.9.0->jupyter-server<3,>=2.4.0->notebook>=4.4.1->widgetsnbextension~=3.6.0->ipywidgets==7.7.0) (6.0.1)\n",
      "Requirement already satisfied: rfc3339-validator in c:\\users\\ggh06\\anaconda3\\lib\\site-packages (from jupyter-events>=0.9.0->jupyter-server<3,>=2.4.0->notebook>=4.4.1->widgetsnbextension~=3.6.0->ipywidgets==7.7.0) (0.1.4)\n",
      "Requirement already satisfied: rfc3986-validator>=0.1.1 in c:\\users\\ggh06\\anaconda3\\lib\\site-packages (from jupyter-events>=0.9.0->jupyter-server<3,>=2.4.0->notebook>=4.4.1->widgetsnbextension~=3.6.0->ipywidgets==7.7.0) (0.1.1)\n",
      "Requirement already satisfied: beautifulsoup4 in c:\\users\\ggh06\\anaconda3\\lib\\site-packages (from nbconvert>=6.4.4->jupyter-server<3,>=2.4.0->notebook>=4.4.1->widgetsnbextension~=3.6.0->ipywidgets==7.7.0) (4.12.2)\n",
      "Requirement already satisfied: bleach!=5.0.0 in c:\\users\\ggh06\\anaconda3\\lib\\site-packages (from nbconvert>=6.4.4->jupyter-server<3,>=2.4.0->notebook>=4.4.1->widgetsnbextension~=3.6.0->ipywidgets==7.7.0) (4.1.0)\n",
      "Requirement already satisfied: defusedxml in c:\\users\\ggh06\\anaconda3\\lib\\site-packages (from nbconvert>=6.4.4->jupyter-server<3,>=2.4.0->notebook>=4.4.1->widgetsnbextension~=3.6.0->ipywidgets==7.7.0) (0.7.1)\n",
      "Requirement already satisfied: jupyterlab-pygments in c:\\users\\ggh06\\anaconda3\\lib\\site-packages (from nbconvert>=6.4.4->jupyter-server<3,>=2.4.0->notebook>=4.4.1->widgetsnbextension~=3.6.0->ipywidgets==7.7.0) (0.1.2)\n",
      "Requirement already satisfied: mistune<4,>=2.0.3 in c:\\users\\ggh06\\anaconda3\\lib\\site-packages (from nbconvert>=6.4.4->jupyter-server<3,>=2.4.0->notebook>=4.4.1->widgetsnbextension~=3.6.0->ipywidgets==7.7.0) (2.0.4)\n",
      "Requirement already satisfied: nbclient>=0.5.0 in c:\\users\\ggh06\\anaconda3\\lib\\site-packages (from nbconvert>=6.4.4->jupyter-server<3,>=2.4.0->notebook>=4.4.1->widgetsnbextension~=3.6.0->ipywidgets==7.7.0) (0.8.0)\n",
      "Requirement already satisfied: pandocfilters>=1.4.1 in c:\\users\\ggh06\\anaconda3\\lib\\site-packages (from nbconvert>=6.4.4->jupyter-server<3,>=2.4.0->notebook>=4.4.1->widgetsnbextension~=3.6.0->ipywidgets==7.7.0) (1.5.0)\n",
      "Requirement already satisfied: tinycss2 in c:\\users\\ggh06\\anaconda3\\lib\\site-packages (from nbconvert>=6.4.4->jupyter-server<3,>=2.4.0->notebook>=4.4.1->widgetsnbextension~=3.6.0->ipywidgets==7.7.0) (1.2.1)\n",
      "Requirement already satisfied: charset-normalizer<4,>=2 in c:\\users\\ggh06\\anaconda3\\lib\\site-packages (from requests>=2.31->jupyterlab-server<3,>=2.22.1->notebook>=4.4.1->widgetsnbextension~=3.6.0->ipywidgets==7.7.0) (2.0.4)\n",
      "Requirement already satisfied: urllib3<3,>=1.21.1 in c:\\users\\ggh06\\anaconda3\\lib\\site-packages (from requests>=2.31->jupyterlab-server<3,>=2.22.1->notebook>=4.4.1->widgetsnbextension~=3.6.0->ipywidgets==7.7.0) (2.0.7)\n",
      "Requirement already satisfied: certifi>=2017.4.17 in c:\\users\\ggh06\\anaconda3\\lib\\site-packages (from requests>=2.31->jupyterlab-server<3,>=2.22.1->notebook>=4.4.1->widgetsnbextension~=3.6.0->ipywidgets==7.7.0) (2024.2.2)\n",
      "Requirement already satisfied: webencodings in c:\\users\\ggh06\\anaconda3\\lib\\site-packages (from bleach!=5.0.0->nbconvert>=6.4.4->jupyter-server<3,>=2.4.0->notebook>=4.4.1->widgetsnbextension~=3.6.0->ipywidgets==7.7.0) (0.5.1)\n",
      "Requirement already satisfied: fqdn in c:\\users\\ggh06\\anaconda3\\lib\\site-packages (from jsonschema[format-nongpl]>=4.18.0->jupyter-events>=0.9.0->jupyter-server<3,>=2.4.0->notebook>=4.4.1->widgetsnbextension~=3.6.0->ipywidgets==7.7.0) (1.5.1)\n",
      "Requirement already satisfied: isoduration in c:\\users\\ggh06\\anaconda3\\lib\\site-packages (from jsonschema[format-nongpl]>=4.18.0->jupyter-events>=0.9.0->jupyter-server<3,>=2.4.0->notebook>=4.4.1->widgetsnbextension~=3.6.0->ipywidgets==7.7.0) (20.11.0)\n",
      "Requirement already satisfied: jsonpointer>1.13 in c:\\users\\ggh06\\anaconda3\\lib\\site-packages (from jsonschema[format-nongpl]>=4.18.0->jupyter-events>=0.9.0->jupyter-server<3,>=2.4.0->notebook>=4.4.1->widgetsnbextension~=3.6.0->ipywidgets==7.7.0) (2.1)\n",
      "Requirement already satisfied: uri-template in c:\\users\\ggh06\\anaconda3\\lib\\site-packages (from jsonschema[format-nongpl]>=4.18.0->jupyter-events>=0.9.0->jupyter-server<3,>=2.4.0->notebook>=4.4.1->widgetsnbextension~=3.6.0->ipywidgets==7.7.0) (1.3.0)\n",
      "Requirement already satisfied: webcolors>=1.11 in c:\\users\\ggh06\\anaconda3\\lib\\site-packages (from jsonschema[format-nongpl]>=4.18.0->jupyter-events>=0.9.0->jupyter-server<3,>=2.4.0->notebook>=4.4.1->widgetsnbextension~=3.6.0->ipywidgets==7.7.0) (24.8.0)\n",
      "Requirement already satisfied: cffi>=1.0.1 in c:\\users\\ggh06\\anaconda3\\lib\\site-packages (from argon2-cffi-bindings->argon2-cffi>=21.1->jupyter-server<3,>=2.4.0->notebook>=4.4.1->widgetsnbextension~=3.6.0->ipywidgets==7.7.0) (1.16.0)\n",
      "Requirement already satisfied: soupsieve>1.2 in c:\\users\\ggh06\\anaconda3\\lib\\site-packages (from beautifulsoup4->nbconvert>=6.4.4->jupyter-server<3,>=2.4.0->notebook>=4.4.1->widgetsnbextension~=3.6.0->ipywidgets==7.7.0) (2.5)\n",
      "Requirement already satisfied: pycparser in c:\\users\\ggh06\\anaconda3\\lib\\site-packages (from cffi>=1.0.1->argon2-cffi-bindings->argon2-cffi>=21.1->jupyter-server<3,>=2.4.0->notebook>=4.4.1->widgetsnbextension~=3.6.0->ipywidgets==7.7.0) (2.21)\n",
      "Requirement already satisfied: arrow>=0.15.0 in c:\\users\\ggh06\\anaconda3\\lib\\site-packages (from isoduration->jsonschema[format-nongpl]>=4.18.0->jupyter-events>=0.9.0->jupyter-server<3,>=2.4.0->notebook>=4.4.1->widgetsnbextension~=3.6.0->ipywidgets==7.7.0) (1.2.3)\n",
      "Downloading ipywidgets-7.7.0-py2.py3-none-any.whl (123 kB)\n",
      "Downloading widgetsnbextension-3.6.8-py2.py3-none-any.whl (1.5 MB)\n",
      "   ---------------------------------------- 0.0/1.5 MB ? eta -:--:--\n",
      "   ---------------------------------------- 1.5/1.5 MB 41.3 MB/s eta 0:00:00\n",
      "Using cached jupyter_server-2.14.2-py3-none-any.whl (383 kB)\n",
      "Downloading jupyterlab-4.0.13-py3-none-any.whl (9.2 MB)\n",
      "   ---------------------------------------- 0.0/9.2 MB ? eta -:--:--\n",
      "   ------------------- -------------------- 4.5/9.2 MB 24.4 MB/s eta 0:00:01\n",
      "   ---------------------------------------- 9.2/9.2 MB 27.2 MB/s eta 0:00:00\n",
      "Using cached jupyter_events-0.10.0-py3-none-any.whl (18 kB)\n",
      "Using cached websocket_client-1.8.0-py3-none-any.whl (58 kB)\n",
      "Installing collected packages: websocket-client, jupyter-events, jupyter-server, jupyterlab, widgetsnbextension, ipywidgets\n",
      "  Attempting uninstall: websocket-client\n",
      "    Found existing installation: websocket-client 0.58.0\n",
      "    Uninstalling websocket-client-0.58.0:\n",
      "      Successfully uninstalled websocket-client-0.58.0\n",
      "  Attempting uninstall: jupyter-events\n",
      "    Found existing installation: jupyter-events 0.8.0\n",
      "    Uninstalling jupyter-events-0.8.0:\n",
      "      Successfully uninstalled jupyter-events-0.8.0\n",
      "  Attempting uninstall: jupyter-server\n",
      "    Found existing installation: jupyter-server 1.24.0\n",
      "    Uninstalling jupyter-server-1.24.0:\n",
      "      Successfully uninstalled jupyter-server-1.24.0\n",
      "  Attempting uninstall: jupyterlab\n",
      "    Found existing installation: jupyterlab 3.2.1\n",
      "    Uninstalling jupyterlab-3.2.1:\n",
      "      Successfully uninstalled jupyterlab-3.2.1\n",
      "  Attempting uninstall: widgetsnbextension\n",
      "    Found existing installation: widgetsnbextension 3.5.2\n",
      "    Uninstalling widgetsnbextension-3.5.2:\n",
      "      Successfully uninstalled widgetsnbextension-3.5.2\n",
      "  Attempting uninstall: ipywidgets\n",
      "    Found existing installation: ipywidgets 7.6.5\n",
      "    Uninstalling ipywidgets-7.6.5:\n",
      "      Successfully uninstalled ipywidgets-7.6.5\n",
      "Successfully installed ipywidgets-7.7.0 jupyter-events-0.10.0 jupyter-server-2.14.2 jupyterlab-4.0.13 websocket-client-1.8.0 widgetsnbextension-3.6.8\n",
      "Collecting jupyterlab-widgets==1.0.0\n",
      "  Downloading jupyterlab_widgets-1.0.0-py3-none-any.whl.metadata (3.5 kB)\n",
      "Downloading jupyterlab_widgets-1.0.0-py3-none-any.whl (243 kB)\n",
      "Installing collected packages: jupyterlab-widgets\n",
      "  Attempting uninstall: jupyterlab-widgets\n",
      "    Found existing installation: jupyterlab_widgets 3.0.13\n",
      "    Uninstalling jupyterlab_widgets-3.0.13:\n",
      "      Successfully uninstalled jupyterlab_widgets-3.0.13\n",
      "Successfully installed jupyterlab-widgets-1.0.0\n"
     ]
    }
   ],
   "source": [
    "import sys\n",
    "!{sys.executable} -m pip install jupyterlab==3.2.1\n",
    "!{sys.executable} -m pip install ipywidgets==7.7.0\n",
    "!{sys.executable} -m pip install jupyterlab-widgets==1.0.0"
   ]
  },
  {
   "cell_type": "code",
   "execution_count": 5,
   "id": "3962bcdd-44d6-4cad-ba39-886b361e844f",
   "metadata": {},
   "outputs": [
    {
     "name": "stdout",
     "output_type": "stream",
     "text": [
      "Looking in indexes: https://download.pytorch.org/whl/cu124\n",
      "Requirement already satisfied: torch in c:\\users\\ggh06\\anaconda3\\lib\\site-packages (2.4.0+cu124)\n",
      "Requirement already satisfied: torchvision in c:\\users\\ggh06\\anaconda3\\lib\\site-packages (0.19.0+cu124)\n",
      "Requirement already satisfied: torchaudio in c:\\users\\ggh06\\anaconda3\\lib\\site-packages (2.4.0+cu124)\n",
      "Requirement already satisfied: filelock in c:\\users\\ggh06\\anaconda3\\lib\\site-packages (from torch) (3.13.1)\n",
      "Requirement already satisfied: typing-extensions>=4.8.0 in c:\\users\\ggh06\\anaconda3\\lib\\site-packages (from torch) (4.9.0)\n",
      "Requirement already satisfied: sympy in c:\\users\\ggh06\\anaconda3\\lib\\site-packages (from torch) (1.12)\n",
      "Requirement already satisfied: networkx in c:\\users\\ggh06\\anaconda3\\lib\\site-packages (from torch) (3.1)\n",
      "Requirement already satisfied: jinja2 in c:\\users\\ggh06\\anaconda3\\lib\\site-packages (from torch) (3.1.3)\n",
      "Requirement already satisfied: fsspec in c:\\users\\ggh06\\anaconda3\\lib\\site-packages (from torch) (2023.10.0)\n",
      "Requirement already satisfied: numpy in c:\\users\\ggh06\\anaconda3\\lib\\site-packages (from torchvision) (1.26.4)\n",
      "Requirement already satisfied: pillow!=8.3.*,>=5.3.0 in c:\\users\\ggh06\\anaconda3\\lib\\site-packages (from torchvision) (10.2.0)\n",
      "Requirement already satisfied: MarkupSafe>=2.0 in c:\\users\\ggh06\\anaconda3\\lib\\site-packages (from jinja2->torch) (2.1.3)\n",
      "Requirement already satisfied: mpmath>=0.19 in c:\\users\\ggh06\\anaconda3\\lib\\site-packages (from sympy->torch) (1.3.0)\n"
     ]
    }
   ],
   "source": [
    "import sys\n",
    "!{sys.executable} -m pip install torch torchvision torchaudio --index-url https://download.pytorch.org/whl/cu124"
   ]
  },
  {
   "cell_type": "code",
   "execution_count": 13,
   "id": "3cf112df-e4ad-4146-934a-a7cd8c3b51ca",
   "metadata": {},
   "outputs": [
    {
     "name": "stderr",
     "output_type": "stream",
     "text": [
      "WARNING: Skipping torch as it is not installed.\n",
      "WARNING: Skipping torchvision as it is not installed.\n",
      "WARNING: Skipping torchaudio as it is not installed.\n"
     ]
    }
   ],
   "source": [
    "!{sys.executable} -m pip uninstall torch torchvision torchaudio  --yes"
   ]
  },
  {
   "cell_type": "code",
   "execution_count": 7,
   "id": "b5de1cf1-255c-46fa-994b-b1d6d4386e0b",
   "metadata": {},
   "outputs": [
    {
     "name": "stdout",
     "output_type": "stream",
     "text": [
      "2.4.0+cu124\n"
     ]
    }
   ],
   "source": [
    "import torch\n",
    "print(torch.__version__)"
   ]
  },
  {
   "cell_type": "code",
   "execution_count": 6,
   "id": "fc4704f1-b0d6-44e4-b8c4-fc7422f7290e",
   "metadata": {},
   "outputs": [
    {
     "ename": "NameError",
     "evalue": "name 'tensorflow' is not defined",
     "output_type": "error",
     "traceback": [
      "\u001b[1;31m---------------------------------------------------------------------------\u001b[0m",
      "\u001b[1;31mNameError\u001b[0m                                 Traceback (most recent call last)",
      "Cell \u001b[1;32mIn[6], line 1\u001b[0m\n\u001b[1;32m----> 1\u001b[0m tensorflow\u001b[38;5;241m.\u001b[39m__version__\n",
      "\u001b[1;31mNameError\u001b[0m: name 'tensorflow' is not defined"
     ]
    }
   ],
   "source": [
    "tensorflow.__version__"
   ]
  },
  {
   "cell_type": "code",
   "execution_count": 2,
   "id": "ecd579c0-1c33-4171-8733-2286f90e6fb2",
   "metadata": {},
   "outputs": [
    {
     "name": "stdout",
     "output_type": "stream",
     "text": [
      "PyTorch version: 2.4.0+cu124\n",
      "Is CUDA available?: True\n",
      "CUDA device count: 1\n",
      "CUDA current device: 0\n",
      "CUDA device name: NVIDIA GeForce RTX 3050 Ti Laptop GPU\n",
      "12.4\n"
     ]
    },
    {
     "data": {
      "text/plain": [
       "device(type='cuda')"
      ]
     },
     "execution_count": 2,
     "metadata": {},
     "output_type": "execute_result"
    }
   ],
   "source": [
    "import transformers\n",
    "import torch\n",
    "\n",
    "model_id = \"meta-llama/Meta-Llama-3.1-8B-Instruct\"\n",
    "\n",
    "\n",
    "print(\"PyTorch version:\", torch.__version__)\n",
    "print(\"Is CUDA available?:\", torch.cuda.is_available())\n",
    "print(\"CUDA device count:\", torch.cuda.device_count())\n",
    "print(\"CUDA current device:\", torch.cuda.current_device())\n",
    "print(\"CUDA device name:\", torch.cuda.get_device_name(torch.cuda.current_device()))\n",
    "print(torch.version.cuda)\n",
    "\n",
    "device = torch.device(\"cuda\" if torch.cuda.is_available() else \"cpu\")\n",
    "device"
   ]
  },
  {
   "cell_type": "code",
   "execution_count": 3,
   "id": "7c0980bf-8517-4a67-ad79-469e6e8bb500",
   "metadata": {},
   "outputs": [
    {
     "data": {
      "application/vnd.jupyter.widget-view+json": {
       "model_id": "abe3da7867cc4d189860af4190539b1a",
       "version_major": 2,
       "version_minor": 0
      },
      "text/plain": [
       "Loading checkpoint shards:   0%|          | 0/4 [00:00<?, ?it/s]"
      ]
     },
     "metadata": {},
     "output_type": "display_data"
    }
   ],
   "source": [
    "\n",
    "pipeline = transformers.pipeline(\n",
    "    \"text-generation\",\n",
    "    model=model_id,\n",
    "    model_kwargs={\"torch_dtype\": torch.bfloat16},\n",
    "    device=0\n",
    ")\n"
   ]
  },
  {
   "cell_type": "code",
   "execution_count": 3,
   "id": "824e595b-d12c-4f3a-8b7f-97216c8e008d",
   "metadata": {},
   "outputs": [
    {
     "data": {
      "text/plain": [
       "<transformers.pipelines.text_generation.TextGenerationPipeline at 0x2023daa3850>"
      ]
     },
     "execution_count": 3,
     "metadata": {},
     "output_type": "execute_result"
    }
   ],
   "source": [
    "pipeline"
   ]
  },
  {
   "cell_type": "code",
   "execution_count": 4,
   "id": "950be025-6e7b-49b9-8818-324c71aef012",
   "metadata": {},
   "outputs": [],
   "source": [
    "\n",
    "messages = [\n",
    "    {\"role\": \"system\", \"content\": \"You are an chatbot who always responds in english speak!\"},\n",
    "    {\"role\": \"user\", \"content\": \"Introduce Thor Odinson of Scandinavian Myth\"},\n",
    "]\n"
   ]
  },
  {
   "cell_type": "code",
   "execution_count": 7,
   "id": "627b0592-f767-47c3-b0c3-452839fae114",
   "metadata": {},
   "outputs": [
    {
     "name": "stderr",
     "output_type": "stream",
     "text": [
      "Setting `pad_token_id` to `eos_token_id`:128001 for open-end generation.\n"
     ]
    },
    {
     "name": "stdout",
     "output_type": "stream",
     "text": [
      "Mortal, let me introduce you to the mighty Thor Odinson, the legendary god of thunder from the rich tapestry of Scandinavian mythology. \n",
      "\n",
      "Thor, the Norse god of thunder, is often depicted as a powerful and charismatic figure wielding a magical hammer known as Mjolnir. This mighty hammer is said to be capable of leveling mountains and shattering the very earth itself. \n",
      "\n",
      "As the son of Odin, the All-Father, and the goddess Frigga, Thor is often associated\n"
     ]
    }
   ],
   "source": [
    "outputs = pipeline(\n",
    "    messages,\n",
    "    max_new_tokens=20,\n",
    "    batch_size=128\n",
    ")\n",
    "\n",
    "print(outputs[0][\"generated_text\"][-1][\"content\"])"
   ]
  },
  {
   "cell_type": "code",
   "execution_count": null,
   "id": "6c235761-121f-4ffd-afaa-76b3be0f046b",
   "metadata": {},
   "outputs": [],
   "source": []
  },
  {
   "cell_type": "code",
   "execution_count": null,
   "id": "56e0f1ae-ebdc-46b0-ac0d-90460d03177c",
   "metadata": {},
   "outputs": [],
   "source": []
  }
 ],
 "metadata": {
  "kernelspec": {
   "display_name": "Python 3 (ipykernel)",
   "language": "python",
   "name": "python3"
  },
  "language_info": {
   "codemirror_mode": {
    "name": "ipython",
    "version": 3
   },
   "file_extension": ".py",
   "mimetype": "text/x-python",
   "name": "python",
   "nbconvert_exporter": "python",
   "pygments_lexer": "ipython3",
   "version": "3.11.9"
  }
 },
 "nbformat": 4,
 "nbformat_minor": 5
}
